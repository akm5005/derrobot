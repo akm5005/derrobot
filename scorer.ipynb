{
 "cells": [
  {
   "cell_type": "code",
   "execution_count": 1,
   "metadata": {},
   "outputs": [
    {
     "name": "stderr",
     "output_type": "stream",
     "text": [
      "/opt/anaconda3/envs/teach-bs/lib/python3.11/site-packages/tqdm/auto.py:21: TqdmWarning: IProgress not found. Please update jupyter and ipywidgets. See https://ipywidgets.readthedocs.io/en/stable/user_install.html\n",
      "  from .autonotebook import tqdm as notebook_tqdm\n"
     ]
    }
   ],
   "source": [
    "from categories.fluency import *"
   ]
  },
  {
   "cell_type": "code",
   "execution_count": 2,
   "metadata": {},
   "outputs": [
    {
     "name": "stdout",
     "output_type": "stream",
     "text": [
      "Sentence: The car hit the cone.\n"
     ]
    }
   ],
   "source": [
    "s = input(\"Enter a sentence: \")  # Prompt the user to enter a sentence\n",
    "\n",
    "if s == \"\":\n",
    "    s = \"The cat sat the quickly up apples banana.\"\n",
    "\n",
    "print(\"Sentence:\", s)  # Print the input sentence\n",
    "\n",
    "err = grammar_errors(s)  # Call the function to execute the grammar error checking\n",
    "flu = pseudo_perplexity(s)  # Call the function to execute the fluency checking"
   ]
  },
  {
   "cell_type": "code",
   "execution_count": 3,
   "metadata": {},
   "outputs": [
    {
     "name": "stdout",
     "output_type": "stream",
     "text": [
      "Perplexity above threshold: 0: The\n",
      "[{'start': 0, 'end': 0, 'message': 'Perplexity above threshold: 0'}]\n"
     ]
    }
   ],
   "source": [
    "combined_err = err[\"errors\"] + flu[\"errors\"]  # Combine the error counts from both functions\n",
    "\n",
    "for e in combined_err:\n",
    "    substr = \" \".join(s.split(\" \")[e[\"start\"]:e[\"end\"]+1])\n",
    "    print(f\"{e['message']}: {substr}\")  # Print the error messages\n",
    "\n",
    "print(combined_err)\n"
   ]
  },
  {
   "cell_type": "code",
   "execution_count": 4,
   "metadata": {},
   "outputs": [
    {
     "name": "stdout",
     "output_type": "stream",
     "text": [
      "Fluency Score: 30.0\n"
     ]
    }
   ],
   "source": [
    "fluency_score = 0.6 * err[\"score\"] + 0.4 * flu[\"score\"]  # Calculate the fluency score\n",
    "print(\"Fluency Score:\", fluency_score)  # Print the fluency score"
   ]
  }
 ],
 "metadata": {
  "kernelspec": {
   "display_name": "teach-bs",
   "language": "python",
   "name": "python3"
  },
  "language_info": {
   "codemirror_mode": {
    "name": "ipython",
    "version": 3
   },
   "file_extension": ".py",
   "mimetype": "text/x-python",
   "name": "python",
   "nbconvert_exporter": "python",
   "pygments_lexer": "ipython3",
   "version": "3.11.11"
  }
 },
 "nbformat": 4,
 "nbformat_minor": 2
}
