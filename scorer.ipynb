{
 "cells": [
  {
   "cell_type": "code",
   "execution_count": 1,
   "metadata": {},
   "outputs": [],
   "source": [
    "from categories.fluency import *"
   ]
  },
  {
   "cell_type": "code",
   "execution_count": 20,
   "metadata": {},
   "outputs": [
    {
     "name": "stdout",
     "output_type": "stream",
     "text": [
      "Sentence: The cat sat the quickly up apples banana.\n"
     ]
    }
   ],
   "source": [
    "s = input(\"Enter a sentence: \")  # Prompt the user to enter a sentence\n",
    "\n",
    "if s == \"\":\n",
    "    s = \"The cat sat the quickly up apples banana.\"\n",
    "\n",
    "print(\"Sentence:\", s)  # Print the input sentence\n",
    "\n",
    "err = grammar_errors(s)  # Call the function to execute the grammar error checking\n",
    "flu = pseudo_perplexity(s, threshold=3.5)  # Call the function to execute the fluency checking"
   ]
  },
  {
   "cell_type": "code",
   "execution_count": 21,
   "metadata": {},
   "outputs": [
    {
     "name": "stdout",
     "output_type": "stream",
     "text": [
      "An apostrophe may be missing.: apples banana.\n",
      "Perplexity 4.8056646935577145 over threshold 3.5: sat\n",
      "Perplexity 4.473408069089179 over threshold 3.5: the\n",
      "Perplexity 4.732453441503642 over threshold 3.5: quickly\n",
      "Perplexity 5.1115574262487735 over threshold 3.5: apples\n"
     ]
    }
   ],
   "source": [
    "combined_err = err[\"errors\"] + flu[\"errors\"]  # Combine the error counts from both functions\n",
    "\n",
    "for e in combined_err:\n",
    "    substr = \" \".join(s.split(\" \")[e[\"start\"]:e[\"end\"]+1])\n",
    "    print(f\"{e['message']}: {substr}\")  # Print the error messages\n"
   ]
  },
  {
   "cell_type": "code",
   "execution_count": 22,
   "metadata": {},
   "outputs": [
    {
     "name": "stdout",
     "output_type": "stream",
     "text": [
      "87.5 50.0\n",
      "Fluency Score: 68.75\n"
     ]
    }
   ],
   "source": [
    "fluency_score = 0.5 * err[\"score\"] + 0.5 * flu[\"score\"]  # Calculate the fluency score\n",
    "print(err[\"score\"], flu[\"score\"])  # Print the individual scores\n",
    "print(\"Fluency Score:\", fluency_score)  # Print the fluency score"
   ]
  }
 ],
 "metadata": {
  "kernelspec": {
   "display_name": "teach-bs",
   "language": "python",
   "name": "python3"
  },
  "language_info": {
   "codemirror_mode": {
    "name": "ipython",
    "version": 3
   },
   "file_extension": ".py",
   "mimetype": "text/x-python",
   "name": "python",
   "nbconvert_exporter": "python",
   "pygments_lexer": "ipython3",
   "version": "3.11.11"
  }
 },
 "nbformat": 4,
 "nbformat_minor": 2
}
