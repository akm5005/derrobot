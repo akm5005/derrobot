{
 "cells": [
  {
   "cell_type": "code",
   "execution_count": 1,
   "metadata": {},
   "outputs": [],
   "source": [
    "from categories.fluency import *"
   ]
  },
  {
   "cell_type": "code",
   "execution_count": 11,
   "metadata": {},
   "outputs": [
    {
     "name": "stdout",
     "output_type": "stream",
     "text": [
      "Sentence: caveman speak weird few word good\n"
     ]
    }
   ],
   "source": [
    "s = input(\"Enter a sentence: \")  # Prompt the user to enter a sentence\n",
    "\n",
    "if s == \"\":\n",
    "    s = \"The cat sat the quickly up apples banana.\"\n",
    "\n",
    "print(\"Sentence:\", s)  # Print the input sentence\n",
    "\n",
    "err = grammar_errors(s)  # Call the function to execute the grammar error checking\n",
    "flu = pseudo_perplexity(s, threshold=3.25)  # Call the function to execute the fluency checking"
   ]
  },
  {
   "cell_type": "code",
   "execution_count": 12,
   "metadata": {},
   "outputs": [
    {
     "name": "stdout",
     "output_type": "stream",
     "text": [
      "This sentence does not start with an uppercase letter.: caveman speak\n",
      "Perplexity 4.2750282429106585 over threshold 3.25: caveman\n",
      "Perplexity 5.191700905668536 over threshold 3.25: few\n",
      "Perplexity 3.8370066187600944 over threshold 3.25: good\n"
     ]
    }
   ],
   "source": [
    "combined_err = err[\"errors\"] + flu[\"errors\"]  # Combine the error counts from both functions\n",
    "\n",
    "for e in combined_err:\n",
    "    substr = \" \".join(s.split(\" \")[e[\"start\"]:e[\"end\"]+1])\n",
    "    print(f\"{e['message']}: {substr}\")  # Print the error messages\n"
   ]
  },
  {
   "cell_type": "code",
   "execution_count": 10,
   "metadata": {},
   "outputs": [
    {
     "name": "stdout",
     "output_type": "stream",
     "text": [
      "100.0 80.14\n",
      "Fluency Score: 90.07\n"
     ]
    }
   ],
   "source": [
    "fluency_score = 0.5 * err[\"score\"] + 0.5 * flu[\"score\"]  # Calculate the fluency score\n",
    "print(err[\"score\"], flu[\"score\"])  # Print the individual scores\n",
    "print(\"Fluency Score:\", fluency_score)  # Print the fluency score"
   ]
  }
 ],
 "metadata": {
  "kernelspec": {
   "display_name": "teach-bs",
   "language": "python",
   "name": "python3"
  },
  "language_info": {
   "codemirror_mode": {
    "name": "ipython",
    "version": 3
   },
   "file_extension": ".py",
   "mimetype": "text/x-python",
   "name": "python",
   "nbconvert_exporter": "python",
   "pygments_lexer": "ipython3",
   "version": "3.11.11"
  }
 },
 "nbformat": 4,
 "nbformat_minor": 2
}
